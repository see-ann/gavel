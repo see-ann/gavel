{
 "cells": [
  {
   "cell_type": "code",
   "execution_count": 4,
   "metadata": {},
   "outputs": [
    {
     "ename": "ModuleNotFoundError",
     "evalue": "No module named 'matplotlib'",
     "output_type": "error",
     "traceback": [
      "\u001b[0;31m---------------------------------------------------------------------------\u001b[0m",
      "\u001b[0;31mModuleNotFoundError\u001b[0m                       Traceback (most recent call last)",
      "\u001b[1;32m/Users/shaochenwang/Documents/GitHub/COS-316/gavel/scheduler/notebooks/figures/evaluation/policy_simulator.ipynb Cell 1\u001b[0m line \u001b[0;36m1\n\u001b[0;32m----> <a href='vscode-notebook-cell:/Users/shaochenwang/Documents/GitHub/COS-316/gavel/scheduler/notebooks/figures/evaluation/policy_simulator.ipynb#W1sZmlsZQ%3D%3D?line=0'>1</a>\u001b[0m \u001b[39mimport\u001b[39;00m \u001b[39mmatplotlib\u001b[39;00m\u001b[39m.\u001b[39;00m\u001b[39mpyplot\u001b[39;00m \u001b[39mas\u001b[39;00m \u001b[39mplt\u001b[39;00m\n\u001b[1;32m      <a href='vscode-notebook-cell:/Users/shaochenwang/Documents/GitHub/COS-316/gavel/scheduler/notebooks/figures/evaluation/policy_simulator.ipynb#W1sZmlsZQ%3D%3D?line=1'>2</a>\u001b[0m \u001b[39mimport\u001b[39;00m \u001b[39mnumpy\u001b[39;00m \u001b[39mas\u001b[39;00m \u001b[39mnp\u001b[39;00m\n\u001b[1;32m      <a href='vscode-notebook-cell:/Users/shaochenwang/Documents/GitHub/COS-316/gavel/scheduler/notebooks/figures/evaluation/policy_simulator.ipynb#W1sZmlsZQ%3D%3D?line=3'>4</a>\u001b[0m \u001b[39m# Data for the bar graph\u001b[39;00m\n",
      "\u001b[0;31mModuleNotFoundError\u001b[0m: No module named 'matplotlib'"
     ]
    }
   ],
   "source": [
    "import matplotlib.pyplot as plt\n",
    "import numpy as np\n",
    "\n",
    "# Data for the bar graph\n",
    "policies = ['FIFO', 'LIFO', 'SJF', 'Max-Min Fairness']\n",
    "average_jct = [12.20, 16.15, 11.88, 17.20]  # Average Job Completion Time in hours\n",
    "cluster_utilization = [93.1, 96.7, 95.3, 98.0]  # Cluster Utilization in %\n",
    "extended_leases = [100, 16.18, 100, 5.25]  # Extended Leases in %\n",
    "\n",
    "# Setting up the figure\n",
    "fig, ax = plt.subplots()\n",
    "\n",
    "# Bar positions\n",
    "bar_width = 0.2\n",
    "index = np.arange(len(policies))\n",
    "\n",
    "# Creating bars for each metric\n",
    "bar1 = ax.bar(index, average_jct, bar_width, color='red', label='Average JCT (hours)')\n",
    "bar2 = ax.bar(index + bar_width, cluster_utilization, bar_width, color='blue', label='Cluster Utilization (%)')\n",
    "bar3 = ax.bar(index + 2 * bar_width, extended_leases, bar_width, color='green', label='Extended Leases (%)')\n",
    "\n",
    "# Adding details\n",
    "ax.set_xlabel('Scheduling Policy')\n",
    "ax.set_title('Comparison of Scheduling Policies')\n",
    "ax.set_xticks(index + bar_width)\n",
    "ax.set_xticklabels(policies)\n",
    "ax.legend()\n",
    "\n",
    "# Show the graph\n",
    "plt.show()\n"
   ]
  }
 ],
 "metadata": {
  "kernelspec": {
   "display_name": "Python 3",
   "language": "python",
   "name": "python3"
  },
  "language_info": {
   "codemirror_mode": {
    "name": "ipython",
    "version": 3
   },
   "file_extension": ".py",
   "mimetype": "text/x-python",
   "name": "python",
   "nbconvert_exporter": "python",
   "pygments_lexer": "ipython3",
   "version": "3.10.7"
  }
 },
 "nbformat": 4,
 "nbformat_minor": 2
}
